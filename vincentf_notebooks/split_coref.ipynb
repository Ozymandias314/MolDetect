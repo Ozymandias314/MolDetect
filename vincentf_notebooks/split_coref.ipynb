{
 "cells": [
  {
   "cell_type": "code",
   "execution_count": 37,
   "id": "9b014937",
   "metadata": {},
   "outputs": [],
   "source": [
    "import json\n",
    "data_path = '/Mounts/rbg-storage1/users/urop/vincentf/MolDetect/data/detect/splits/annotations/detect_train.json'\n",
    "with open(data_path) as f:\n",
    "    data = json.load(f)"
   ]
  },
  {
   "cell_type": "code",
   "execution_count": 38,
   "id": "e09426c9",
   "metadata": {},
   "outputs": [
    {
     "name": "stdout",
     "output_type": "stream",
     "text": [
      "dict_keys(['categories', 'licenses', 'info', 'images', 'annotations'])\n"
     ]
    }
   ],
   "source": [
    "print(data.keys())"
   ]
  },
  {
   "cell_type": "code",
   "execution_count": 39,
   "id": "2255f481",
   "metadata": {},
   "outputs": [],
   "source": [
    "file_names = set()\n",
    "for i in data['images']:\n",
    "    file_names.add(i[\"file_name\"])"
   ]
  },
  {
   "cell_type": "code",
   "execution_count": 40,
   "id": "ee8a05d4",
   "metadata": {},
   "outputs": [
    {
     "name": "stdout",
     "output_type": "stream",
     "text": [
      "1365\n"
     ]
    }
   ],
   "source": [
    "print(len(file_names))"
   ]
  },
  {
   "cell_type": "code",
   "execution_count": 41,
   "id": "1d0b16dc",
   "metadata": {},
   "outputs": [],
   "source": [
    "names_list = list(file_names)"
   ]
  },
  {
   "cell_type": "code",
   "execution_count": 42,
   "id": "3c4253c9",
   "metadata": {},
   "outputs": [
    {
     "name": "stdout",
     "output_type": "stream",
     "text": [
      "['jo990209z-Figure-c1.png', 'ol8013717-Table-c1.png', 'op900284w-Figure-c1.png', 'ol501422k-Table-c2.png', 'acs.oprd.5b00209-Scheme-c2.png', 'ol060868f-Scheme-c1.png', 'acs.oprd.5b00148-Figure-c2.png', 'op300306c-Figure-c2.png', 'jo402399n-Table-c4.png', 'op4003467-Table-c1.png']\n"
     ]
    }
   ],
   "source": [
    "print(names_list[0:10])"
   ]
  },
  {
   "cell_type": "code",
   "execution_count": 8,
   "id": "54f4027d-e5eb-4a35-911c-218f9e93a555",
   "metadata": {
    "tags": []
   },
   "outputs": [],
   "source": [
    "names_with_coref = []\n",
    "for image in data['images']:\n",
    "    if 'corefs' in image.keys():\n",
    "        names_with_coref.append(image['file_name'])"
   ]
  },
  {
   "cell_type": "code",
   "execution_count": 9,
   "id": "582c8845-1d9f-4707-9894-149e226c3b5c",
   "metadata": {
    "tags": []
   },
   "outputs": [
    {
     "name": "stdout",
     "output_type": "stream",
     "text": [
      "0\n"
     ]
    }
   ],
   "source": [
    "print(len(names_with_coref))"
   ]
  },
  {
   "cell_type": "code",
   "execution_count": 43,
   "id": "28981207-0665-46e9-a126-fa652a49b993",
   "metadata": {
    "tags": []
   },
   "outputs": [],
   "source": [
    "good_files = \"/Mounts/rbg-storage1/users/urop/vincentf/MolDetect/vincentf_notebooks/cleanup_do_not_change.json\"\n",
    "with open(good_files) as g:\n",
    "    good_file_names = json.load(g)"
   ]
  },
  {
   "cell_type": "code",
   "execution_count": 44,
   "id": "b823f34a-4bd8-476b-a180-d01530434a15",
   "metadata": {
    "tags": []
   },
   "outputs": [],
   "source": [
    "good_names_with_coref = []\n",
    "\n",
    "for name in names_list:\n",
    "    if good_file_names[name] == \"\" or good_file_names[name] == \"1\":\n",
    "        good_names_with_coref.append(name)"
   ]
  },
  {
   "cell_type": "code",
   "execution_count": 45,
   "id": "39ad5835-a094-43ad-b56b-bc47fa562d0a",
   "metadata": {
    "tags": []
   },
   "outputs": [
    {
     "name": "stdout",
     "output_type": "stream",
     "text": [
      "1365\n"
     ]
    }
   ],
   "source": [
    "print(len(good_names_with_coref))"
   ]
  },
  {
   "cell_type": "code",
   "execution_count": 48,
   "id": "f541a212-04bd-4002-a32c-7e9efa873cc3",
   "metadata": {
    "tags": []
   },
   "outputs": [
    {
     "name": "stdout",
     "output_type": "stream",
     "text": [
      "['op025538z-Table-c1.png', 'jo951899j-Table-c4.png', 'op9001824-Figure-c1.png', 'op400278d-Figure-c1.png', 'ol026156g-Figure-c1.png', 'op0602425-Figure-c3.png', 'acs.orglett.5b01692-Scheme-c1.png', 'ol801919q-Figure-c4.png', 'ol402981z-Table-c1.png', 'ja0289088-Table-c1.png']\n"
     ]
    }
   ],
   "source": [
    "print(good_names_with_coref[0:10])"
   ]
  },
  {
   "cell_type": "code",
   "execution_count": 49,
   "id": "ac916039",
   "metadata": {},
   "outputs": [
    {
     "name": "stdout",
     "output_type": "stream",
     "text": [
      "['ol800418m-Figure-c1.png', 'ol1018773-Figure-c1.png', 'ol800527p-Scheme-c4.png', 'op700160a-Table-c2.png', 'op020090n-Figure-c4.png', 'jo4027148-Scheme-c5.png', 'acs.orglett.5b00663-Scheme-c2.png', 'op800033c-Scheme-c4.png', 'ja9612413-Scheme-c2.png', 'jo400755q-Scheme-c3.png']\n"
     ]
    }
   ],
   "source": [
    "import random\n",
    "\n",
    "random.shuffle(good_names_with_coref)\n",
    "\n",
    "print(good_names_with_coref[0:10])"
   ]
  },
  {
   "cell_type": "code",
   "execution_count": 50,
   "id": "8e8983f4",
   "metadata": {},
   "outputs": [
    {
     "name": "stdout",
     "output_type": "stream",
     "text": [
      "1217\n"
     ]
    }
   ],
   "source": [
    "test = good_names_with_coref[0:74]\n",
    "val = good_names_with_coref[74: 148]\n",
    "train = good_names_with_coref[148:]\n",
    "print(len(train))"
   ]
  },
  {
   "cell_type": "code",
   "execution_count": 52,
   "id": "9d2e97aa",
   "metadata": {},
   "outputs": [
    {
     "name": "stdout",
     "output_type": "stream",
     "text": [
      "{'categories': [{'id': 1, 'name': 'structure', 'supercategory': ''}, {'id': 2, 'name': 'text', 'supercategory': ''}, {'id': 3, 'name': 'identifier', 'supercategory': ''}, {'id': 4, 'name': 'supplement', 'supercategory': ''}], 'licenses': [{'name': '', 'id': 0, 'url': ''}], 'info': {'contributor': 'Jiang Guo', 'date_created': 'Dec. 22', 'description': '', 'url': '', 'version': 'v1', 'year': '2021'}, 'images': [], 'annotations': []}\n"
     ]
    }
   ],
   "source": [
    "test_json = {}\n",
    "val_json = {}\n",
    "train_json = {}\n",
    "\n",
    "for k in ['categories', 'licenses', 'info']:\n",
    "    test_json[k] = data[k]\n",
    "    val_json[k] = data[k]\n",
    "    train_json[k] = data[k]\n",
    "\n",
    "test_json['images'] = []\n",
    "val_json['images'] = []\n",
    "train_json['images'] = []\n",
    "\n",
    "test_json['annotations'] = []\n",
    "val_json['annotations'] = []\n",
    "train_json['annotations'] = []\n",
    "\n",
    "test_ids = set()\n",
    "val_ids = set()\n",
    "train_ids = set()\n",
    "\n",
    "print(test_json)"
   ]
  },
  {
   "cell_type": "code",
   "execution_count": 53,
   "id": "abce3451",
   "metadata": {},
   "outputs": [],
   "source": [
    "for image in data['images']:\n",
    "    if image['file_name'] in test:\n",
    "        test_json['images'].append(image)\n",
    "        test_ids.add(image['id'])\n",
    "    elif image['file_name'] in val:\n",
    "        val_json['images'].append(image)\n",
    "        val_ids.add(image['id'])\n",
    "    elif image['file_name'] in train:\n",
    "        train_json['images'].append(image)\n",
    "        train_ids.add(image['id'])"
   ]
  },
  {
   "cell_type": "code",
   "execution_count": 54,
   "id": "56003db6",
   "metadata": {},
   "outputs": [],
   "source": [
    "for annotation in data['annotations']:\n",
    "    if annotation['image_id'] in test_ids:\n",
    "        test_json['annotations'].append(annotation)\n",
    "    elif annotation['image_id'] in val_ids:\n",
    "        val_json['annotations'].append(annotation)\n",
    "    elif annotation['image_id'] in train_ids:\n",
    "        train_json['annotations'].append(annotation)"
   ]
  },
  {
   "cell_type": "code",
   "execution_count": 54,
   "id": "0818f1b3",
   "metadata": {},
   "outputs": [],
   "source": [
    "json_object = json.dumps(test_json)\n",
    " \n",
    "# Writing to sample.json\n",
    "with open(\"../data/detect/splits/annotations/detect_tra.json\", \"w\") as outfile:\n",
    "    outfile.write(json_object)"
   ]
  },
  {
   "cell_type": "code",
   "execution_count": 41,
   "id": "7f0e5938",
   "metadata": {},
   "outputs": [],
   "source": [
    "json_object = json.dumps(val_json)\n",
    " \n",
    "# Writing to sample.json\n",
    "with open(\"../data/coref/splits/annotations/coref_redo_val.json\", \"w\") as outfile:\n",
    "    outfile.write(json_object)"
   ]
  },
  {
   "cell_type": "code",
   "execution_count": 42,
   "id": "1a8377dd",
   "metadata": {},
   "outputs": [],
   "source": [
    "json_object = json.dumps(train_json)\n",
    " \n",
    "# Writing to sample.json\n",
    "with open(\"../data/coref/splits/annotations/coref_redo_train.json\", \"w\") as outfile:\n",
    "    outfile.write(json_object)"
   ]
  },
  {
   "cell_type": "code",
   "execution_count": null,
   "id": "498b46f3",
   "metadata": {},
   "outputs": [],
   "source": []
  }
 ],
 "metadata": {
  "kernelspec": {
   "display_name": "Python 3 (ipykernel)",
   "language": "python",
   "name": "python3"
  },
  "language_info": {
   "codemirror_mode": {
    "name": "ipython",
    "version": 3
   },
   "file_extension": ".py",
   "mimetype": "text/x-python",
   "name": "python",
   "nbconvert_exporter": "python",
   "pygments_lexer": "ipython3",
   "version": "3.10.11"
  }
 },
 "nbformat": 4,
 "nbformat_minor": 5
}
