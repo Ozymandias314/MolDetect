{
 "cells": [
  {
   "cell_type": "code",
   "execution_count": 33,
   "id": "9b014937",
   "metadata": {},
   "outputs": [],
   "source": [
    "import json\n",
    "data_path1 = '/Mounts/rbg-storage1/users/urop/vincentf/MolDetect/data/coref/splits/annotations/cv/all_cv_only.json'\n",
    "with open(data_path1) as f:\n",
    "    data1 = json.load(f)\n",
    "data_path2 = '/Mounts/rbg-storage1/users/urop/vincentf/MolDetect/data/coref/splits/annotations/manual.json'\n",
    "with open(data_path2) as f:\n",
    "    data2 = json.load(f)"
   ]
  },
  {
   "cell_type": "code",
   "execution_count": 34,
   "id": "e09426c9",
   "metadata": {},
   "outputs": [
    {
     "name": "stdout",
     "output_type": "stream",
     "text": [
      "dict_keys(['categories', 'licenses', 'info', 'images', 'annotations'])\n"
     ]
    }
   ],
   "source": [
    "print(data1.keys())"
   ]
  },
  {
   "cell_type": "code",
   "execution_count": 29,
   "id": "8c45c450-9ee4-4510-a63c-c62185881d6e",
   "metadata": {
    "tags": []
   },
   "outputs": [
    {
     "name": "stdout",
     "output_type": "stream",
     "text": [
      "744\n",
      "744\n",
      "952\n",
      "952\n"
     ]
    }
   ],
   "source": [
    "l = [i['id'] for i in data1['images']]\n",
    "print(len(l))\n",
    "print(len(set(l)))\n",
    "l = [i['id'] for i in data2['images']]\n",
    "print(len(l))\n",
    "print(len(set(l)))"
   ]
  },
  {
   "cell_type": "code",
   "execution_count": 32,
   "id": "832d480b-4756-4568-a72e-a5afdc12eaeb",
   "metadata": {
    "tags": []
   },
   "outputs": [],
   "source": [
    "id_map1 = {i: image['id'] for i, image in enumerate(data1['images'])}\n",
    "id_map2 = {i: image['id'] for i, image in enumerate(data2['images'])}\n",
    "\n"
   ]
  },
  {
   "cell_type": "code",
   "execution_count": 35,
   "id": "5f96c675-1133-4a51-a896-3277a9907237",
   "metadata": {
    "tags": []
   },
   "outputs": [],
   "source": [
    "data = {}\n",
    "\n",
    "for k in ['categories', 'licenses', 'info']:\n",
    "    data[k] = data1[k]\n",
    "\n",
    "for k in ['images', 'annotations']:\n",
    "    data[k] = data1[k] + data2[k]"
   ]
  },
  {
   "cell_type": "code",
   "execution_count": 36,
   "id": "a593fde9-961f-4a25-ae3f-e8be6d785fac",
   "metadata": {
    "tags": []
   },
   "outputs": [
    {
     "name": "stdout",
     "output_type": "stream",
     "text": [
      "1696\n",
      "1437\n"
     ]
    }
   ],
   "source": [
    "l = [i['id'] for i in data['images']]\n",
    "print(len(l))\n",
    "print(len(set(l)))"
   ]
  },
  {
   "cell_type": "code",
   "execution_count": 37,
   "id": "2255f481",
   "metadata": {},
   "outputs": [],
   "source": [
    "file_names = set()\n",
    "for i in data['images']:\n",
    "    file_names.add(i[\"file_name\"])"
   ]
  },
  {
   "cell_type": "code",
   "execution_count": 38,
   "id": "ee8a05d4",
   "metadata": {},
   "outputs": [
    {
     "name": "stdout",
     "output_type": "stream",
     "text": [
      "1696\n"
     ]
    }
   ],
   "source": [
    "print(len(file_names))"
   ]
  },
  {
   "cell_type": "code",
   "execution_count": 39,
   "id": "1d0b16dc",
   "metadata": {},
   "outputs": [],
   "source": [
    "names_list = list(file_names)"
   ]
  },
  {
   "cell_type": "code",
   "execution_count": 10,
   "id": "3c4253c9",
   "metadata": {},
   "outputs": [
    {
     "name": "stdout",
     "output_type": "stream",
     "text": [
      "['jo4027148-Scheme-c10.png', 'op500224x-Table-c7.png', 'ol0348957-Table-c4.png', 'ol402047d-Table-c2.png', 'op050151s-Table-c1.png', 'ol036111v-Scheme-c2.png', 'op900188v-Scheme-c7.png', 'op400278d-Table-c12.png', 'acs.orglett.5b01710-Figure-c2.png', 'ol701624y-Figure-c2.png']\n"
     ]
    }
   ],
   "source": [
    "print(names_list[0:10])"
   ]
  },
  {
   "cell_type": "code",
   "execution_count": 11,
   "id": "54f4027d-e5eb-4a35-911c-218f9e93a555",
   "metadata": {
    "tags": []
   },
   "outputs": [],
   "source": [
    "names_with_coref = []\n",
    "for image in data['images']:\n",
    "    if 'corefs' in image.keys():\n",
    "        names_with_coref.append(image['file_name'])"
   ]
  },
  {
   "cell_type": "code",
   "execution_count": 12,
   "id": "582c8845-1d9f-4707-9894-149e226c3b5c",
   "metadata": {
    "tags": []
   },
   "outputs": [
    {
     "name": "stdout",
     "output_type": "stream",
     "text": [
      "1696\n"
     ]
    }
   ],
   "source": [
    "print(len(names_with_coref))"
   ]
  },
  {
   "cell_type": "code",
   "execution_count": 13,
   "id": "28981207-0665-46e9-a126-fa652a49b993",
   "metadata": {
    "tags": []
   },
   "outputs": [],
   "source": [
    "good_files = \"/Mounts/rbg-storage1/users/urop/vincentf/MolDetect/vincentf_notebooks/cleanup_do_not_change.json\"\n",
    "with open(good_files) as g:\n",
    "    good_file_names = json.load(g)"
   ]
  },
  {
   "cell_type": "code",
   "execution_count": 14,
   "id": "b823f34a-4bd8-476b-a180-d01530434a15",
   "metadata": {
    "tags": []
   },
   "outputs": [],
   "source": [
    "good_names_with_coref = []\n",
    "\n",
    "for name in names_list:\n",
    "    if good_file_names[name] == \"\" or good_file_names[name] == \"1\":\n",
    "        good_names_with_coref.append(name)"
   ]
  },
  {
   "cell_type": "code",
   "execution_count": 15,
   "id": "39ad5835-a094-43ad-b56b-bc47fa562d0a",
   "metadata": {
    "tags": []
   },
   "outputs": [
    {
     "name": "stdout",
     "output_type": "stream",
     "text": [
      "1696\n"
     ]
    }
   ],
   "source": [
    "print(len(good_names_with_coref))"
   ]
  },
  {
   "cell_type": "code",
   "execution_count": 16,
   "id": "f541a212-04bd-4002-a32c-7e9efa873cc3",
   "metadata": {
    "tags": []
   },
   "outputs": [
    {
     "name": "stdout",
     "output_type": "stream",
     "text": [
      "['jo4027148-Scheme-c10.png', 'op500224x-Table-c7.png', 'ol0348957-Table-c4.png', 'ol402047d-Table-c2.png', 'op050151s-Table-c1.png', 'ol036111v-Scheme-c2.png', 'op900188v-Scheme-c7.png', 'op400278d-Table-c12.png', 'acs.orglett.5b01710-Figure-c2.png', 'ol701624y-Figure-c2.png']\n"
     ]
    }
   ],
   "source": [
    "print(good_names_with_coref[0:10])"
   ]
  },
  {
   "cell_type": "code",
   "execution_count": 17,
   "id": "ac916039",
   "metadata": {},
   "outputs": [
    {
     "name": "stdout",
     "output_type": "stream",
     "text": [
      "['op500221s-Figure-c3.png', 'op800136f-Scheme-c11.png', 'ol1014703-Figure-c5.png', 'ol300387f-Table-c1.png', 'acs.oprd.5b00331-Figure-c1.png', 'ol4017854-Table-c1.png', 'op500250b-Figure-c5.png', 'jo201098c-Figure-c6.png', 'ol401535k-Table-c1.png', 'acs.joc.5b02237-Scheme-c1.png']\n"
     ]
    }
   ],
   "source": [
    "import random\n",
    "\n",
    "random.shuffle(good_names_with_coref)\n",
    "\n",
    "print(good_names_with_coref[0:10])"
   ]
  },
  {
   "cell_type": "code",
   "execution_count": 18,
   "id": "8e8983f4",
   "metadata": {},
   "outputs": [
    {
     "name": "stdout",
     "output_type": "stream",
     "text": [
      "1186\n"
     ]
    }
   ],
   "source": [
    "test = good_names_with_coref[0:340]\n",
    "val = good_names_with_coref[340: 510]\n",
    "train = good_names_with_coref[510:]\n",
    "print(len(train))"
   ]
  },
  {
   "cell_type": "code",
   "execution_count": 19,
   "id": "9d2e97aa",
   "metadata": {},
   "outputs": [
    {
     "name": "stdout",
     "output_type": "stream",
     "text": [
      "{'categories': [{'id': 1, 'name': 'structure'}, {'id': 2, 'name': 'text'}, {'id': 3, 'name': 'identifier'}, {'id': 4, 'name': 'supplement'}], 'licenses': [{'name': '', 'id': 0, 'url': ''}], 'info': {'contributor': 'Jiang Guo', 'date_created': 'Feb. 01', 'description': 'A dataset for chemical visual diagram analysis', 'url': '', 'version': 'v1', 'year': '2022'}, 'images': [], 'annotations': []}\n"
     ]
    }
   ],
   "source": [
    "test_json = {}\n",
    "val_json = {}\n",
    "train_json = {}\n",
    "\n",
    "for k in ['categories', 'licenses', 'info']:\n",
    "    test_json[k] = data[k]\n",
    "    val_json[k] = data[k]\n",
    "    train_json[k] = data[k]\n",
    "\n",
    "test_json['images'] = []\n",
    "val_json['images'] = []\n",
    "train_json['images'] = []\n",
    "\n",
    "test_json['annotations'] = []\n",
    "val_json['annotations'] = []\n",
    "train_json['annotations'] = []\n",
    "\n",
    "test_ids = set()\n",
    "val_ids = set()\n",
    "train_ids = set()\n",
    "\n",
    "print(test_json)"
   ]
  },
  {
   "cell_type": "code",
   "execution_count": 20,
   "id": "abce3451",
   "metadata": {},
   "outputs": [],
   "source": [
    "for image in data['images']:\n",
    "    if image['file_name'] in test:\n",
    "        test_json['images'].append(image)\n",
    "        test_ids.add(image['id'])\n",
    "    elif image['file_name'] in val:\n",
    "        val_json['images'].append(image)\n",
    "        val_ids.add(image['id'])\n",
    "    elif image['file_name'] in train:\n",
    "        train_json['images'].append(image)\n",
    "        train_ids.add(image['id'])"
   ]
  },
  {
   "cell_type": "code",
   "execution_count": 21,
   "id": "56003db6",
   "metadata": {},
   "outputs": [],
   "source": [
    "for annotation in data['annotations']:\n",
    "    if annotation['image_id'] in test_ids:\n",
    "        test_json['annotations'].append(annotation)\n",
    "    elif annotation['image_id'] in val_ids:\n",
    "        val_json['annotations'].append(annotation)\n",
    "    elif annotation['image_id'] in train_ids:\n",
    "        train_json['annotations'].append(annotation)"
   ]
  },
  {
   "cell_type": "code",
   "execution_count": 40,
   "id": "0818f1b3",
   "metadata": {},
   "outputs": [],
   "source": [
    "json_object = json.dumps(test_json)\n",
    " \n",
    "# Writing to sample.json\n",
    "with open(\"../data/coref/splits/annotations/full_coref_test.json\", \"w\") as outfile:\n",
    "    outfile.write(json_object)"
   ]
  },
  {
   "cell_type": "code",
   "execution_count": 41,
   "id": "7f0e5938",
   "metadata": {},
   "outputs": [],
   "source": [
    "json_object = json.dumps(val_json)\n",
    " \n",
    "# Writing to sample.json\n",
    "with open(\"../data/coref/splits/annotations/full_coref_val.json\", \"w\") as outfile:\n",
    "    outfile.write(json_object)"
   ]
  },
  {
   "cell_type": "code",
   "execution_count": 42,
   "id": "1a8377dd",
   "metadata": {},
   "outputs": [],
   "source": [
    "json_object = json.dumps(train_json)\n",
    " \n",
    "# Writing to sample.json\n",
    "with open(\"../data/coref/splits/annotations/full_coref_train.json\", \"w\") as outfile:\n",
    "    outfile.write(json_object)"
   ]
  },
  {
   "cell_type": "code",
   "execution_count": null,
   "id": "498b46f3",
   "metadata": {},
   "outputs": [],
   "source": []
  }
 ],
 "metadata": {
  "kernelspec": {
   "display_name": "Python 3 (ipykernel)",
   "language": "python",
   "name": "python3"
  },
  "language_info": {
   "codemirror_mode": {
    "name": "ipython",
    "version": 3
   },
   "file_extension": ".py",
   "mimetype": "text/x-python",
   "name": "python",
   "nbconvert_exporter": "python",
   "pygments_lexer": "ipython3",
   "version": "3.10.11"
  }
 },
 "nbformat": 4,
 "nbformat_minor": 5
}
