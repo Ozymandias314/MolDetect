{
 "cells": [
  {
   "cell_type": "code",
   "execution_count": 1,
   "id": "9b014937",
   "metadata": {},
   "outputs": [],
   "source": [
    "import json\n",
    "data_path = '/Mounts/rbg-storage1/users/yujieq/reaction//data/detect/annotations_merged_feb.json'\n",
    "with open(data_path) as f:\n",
    "    data = json.load(f)"
   ]
  },
  {
   "cell_type": "code",
   "execution_count": 2,
   "id": "e09426c9",
   "metadata": {},
   "outputs": [
    {
     "name": "stdout",
     "output_type": "stream",
     "text": [
      "{'id': 0, 'width': 1348, 'height': 340, 'file_name': 'jacs.6b01306-Table-c1.png', 'license': 0, 'flickr_url': '', 'coco_url': '', 'date_captured': 0, 'bboxes': [{'bbox': [62.6, 118.47, 347.18, 103.57], 'category_id': 1, 'id': 0}, {'bbox': [420.69, 152.04, 502.12, 83.77], 'category_id': 2, 'id': 1}, {'bbox': [6.11, 263.0, 1335.8, 76.25], 'category_id': 4, 'id': 2}, {'bbox': [936.3, 118.47, 348.04, 102.71], 'category_id': 1, 'id': 3}, {'bbox': [474.06, 3.12, 412.6, 135.38], 'category_id': 2, 'id': 4}], 'caption': 'Table 1. Asymmetric Hydrogenation of Dimethyl Itaconate with Mixtures of BTA Ligand, [Rh(cod)2]BArF, and Ester BTA: Screening of Various Comonomersa ', 'pdf': {'Page': 3, 'DPI': 100, 'Width': 869, 'Height': 1137, 'CaptionBB': [82, 373, 415, 418], 'ImageBB': [82, 425, 419, 510]}}\n"
     ]
    }
   ],
   "source": [
    "print(data['images'][0])"
   ]
  },
  {
   "cell_type": "code",
   "execution_count": 3,
   "id": "2255f481",
   "metadata": {},
   "outputs": [],
   "source": [
    "file_names = set()\n",
    "for i in data['images']:\n",
    "    file_names.add(i[\"file_name\"])"
   ]
  },
  {
   "cell_type": "code",
   "execution_count": 4,
   "id": "ee8a05d4",
   "metadata": {},
   "outputs": [
    {
     "name": "stdout",
     "output_type": "stream",
     "text": [
      "1923\n"
     ]
    }
   ],
   "source": [
    "print(len(file_names))"
   ]
  },
  {
   "cell_type": "code",
   "execution_count": 5,
   "id": "1d0b16dc",
   "metadata": {},
   "outputs": [],
   "source": [
    "names_list = list(file_names)"
   ]
  },
  {
   "cell_type": "code",
   "execution_count": 6,
   "id": "3c4253c9",
   "metadata": {},
   "outputs": [
    {
     "name": "stdout",
     "output_type": "stream",
     "text": [
      "['ol402074u-Figure-c5.png', 'op300147f-Scheme-c3.png', 'op200312m-Table-c5.png', 'acs.oprd.5b00137-Figure-c4.png', 'op500250b-Figure-c2.png', 'op060118l-Figure-c1.png', 'op200278q-Table-c9.png', 'jo201654h-Figure-c1.png', 'ol303154k-Table-c2.png', 'ol0362663-Table-c2.png']\n"
     ]
    }
   ],
   "source": [
    "print(names_list[0:10])"
   ]
  },
  {
   "cell_type": "code",
   "execution_count": 7,
   "id": "ac916039",
   "metadata": {},
   "outputs": [
    {
     "name": "stdout",
     "output_type": "stream",
     "text": [
      "['ja312277g-Table-c4.png', 'ol9005322-Scheme-c3.png', 'op300101d-Table-c2.png', 'jacs.5b12989-Table-c1.png', 'jo2003264-Table-c3.png', 'op900197r-Figure-c1.png', 'jo200882k-Figure-c1.png', 'ol4013926-Figure-c2.png', 'jo501216h-Figure-c1.png', 'op9701245-Table-c1.png']\n"
     ]
    }
   ],
   "source": [
    "import random\n",
    "\n",
    "random.shuffle(names_list)\n",
    "\n",
    "print(names_list[0:10])"
   ]
  },
  {
   "cell_type": "code",
   "execution_count": 9,
   "id": "8e8983f4",
   "metadata": {},
   "outputs": [
    {
     "name": "stdout",
     "output_type": "stream",
     "text": [
      "1539\n"
     ]
    }
   ],
   "source": [
    "test = names_list[0:192]\n",
    "val = names_list[192: 384]\n",
    "train = names_list[384:]\n",
    "print(len(train))"
   ]
  },
  {
   "cell_type": "code",
   "execution_count": 10,
   "id": "9d2e97aa",
   "metadata": {},
   "outputs": [
    {
     "name": "stdout",
     "output_type": "stream",
     "text": [
      "{'categories': [{'id': 1, 'name': 'structure', 'supercategory': ''}, {'id': 2, 'name': 'text', 'supercategory': ''}, {'id': 3, 'name': 'identifier', 'supercategory': ''}, {'id': 4, 'name': 'supplement', 'supercategory': ''}], 'licenses': [{'name': '', 'id': 0, 'url': ''}], 'info': {'contributor': 'Jiang Guo', 'date_created': 'Dec. 22', 'description': '', 'url': '', 'version': 'v1', 'year': '2021'}, 'images': [], 'annotations': []}\n"
     ]
    }
   ],
   "source": [
    "test_json = {}\n",
    "val_json = {}\n",
    "train_json = {}\n",
    "\n",
    "for k in ['categories', 'licenses', 'info']:\n",
    "    test_json[k] = data[k]\n",
    "    val_json[k] = data[k]\n",
    "    train_json[k] = data[k]\n",
    "\n",
    "test_json['images'] = []\n",
    "val_json['images'] = []\n",
    "train_json['images'] = []\n",
    "test_json['annotations'] = []\n",
    "val_json['annotations'] = []\n",
    "train_json['annotations'] = []\n",
    "\n",
    "test_ids = set()\n",
    "val_ids = set()\n",
    "train_ids = set()\n",
    "\n",
    "print(test_json)"
   ]
  },
  {
   "cell_type": "code",
   "execution_count": 11,
   "id": "abce3451",
   "metadata": {},
   "outputs": [],
   "source": [
    "for image in data['images']:\n",
    "    if image['file_name'] in test:\n",
    "        test_json['images'].append(image)\n",
    "        test_ids.add(image['id'])\n",
    "    elif image['file_name'] in val:\n",
    "        val_json['images'].append(image)\n",
    "        val_ids.add(image['id'])\n",
    "    elif image['file_name'] in train:\n",
    "        train_json['images'].append(image)\n",
    "        train_ids.add(image['id'])"
   ]
  },
  {
   "cell_type": "code",
   "execution_count": 12,
   "id": "56003db6",
   "metadata": {},
   "outputs": [],
   "source": [
    "for annotation in data['annotations']:\n",
    "    if annotation['image_id'] in test_ids:\n",
    "        test_json['annotations'].append(annotation)\n",
    "    elif annotation['image_id'] in val_ids:\n",
    "        val_json['annotations'].append(annotation)\n",
    "    elif annotation['image_id'] in train_ids:\n",
    "        train_json['annotations'].append(annotation)"
   ]
  },
  {
   "cell_type": "code",
   "execution_count": 13,
   "id": "0818f1b3",
   "metadata": {},
   "outputs": [],
   "source": [
    "json_object = json.dumps(test_json)\n",
    " \n",
    "# Writing to sample.json\n",
    "with open(\"test_clean_febunclean.json\", \"w\") as outfile:\n",
    "    outfile.write(json_object)"
   ]
  },
  {
   "cell_type": "code",
   "execution_count": 14,
   "id": "7f0e5938",
   "metadata": {},
   "outputs": [],
   "source": [
    "json_object = json.dumps(val_json)\n",
    " \n",
    "# Writing to sample.json\n",
    "with open(\"val_clean_febunclean.json\", \"w\") as outfile:\n",
    "    outfile.write(json_object)"
   ]
  },
  {
   "cell_type": "code",
   "execution_count": 15,
   "id": "1a8377dd",
   "metadata": {},
   "outputs": [],
   "source": [
    "json_object = json.dumps(train_json)\n",
    " \n",
    "# Writing to sample.json\n",
    "with open(\"train_clean_febunclean.json\", \"w\") as outfile:\n",
    "    outfile.write(json_object)"
   ]
  },
  {
   "cell_type": "code",
   "execution_count": null,
   "id": "498b46f3",
   "metadata": {},
   "outputs": [],
   "source": []
  }
 ],
 "metadata": {
  "kernelspec": {
   "display_name": "Python 3 (ipykernel)",
   "language": "python",
   "name": "python3"
  },
  "language_info": {
   "codemirror_mode": {
    "name": "ipython",
    "version": 3
   },
   "file_extension": ".py",
   "mimetype": "text/x-python",
   "name": "python",
   "nbconvert_exporter": "python",
   "pygments_lexer": "ipython3",
   "version": "3.10.11"
  }
 },
 "nbformat": 4,
 "nbformat_minor": 5
}
